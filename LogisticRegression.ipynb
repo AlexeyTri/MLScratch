{
  "nbformat": 4,
  "nbformat_minor": 0,
  "metadata": {
    "colab": {
      "provenance": [],
      "authorship_tag": "ABX9TyNOFLQm2IqdC848IPeZM0Pa",
      "include_colab_link": true
    },
    "kernelspec": {
      "name": "python3",
      "display_name": "Python 3"
    },
    "language_info": {
      "name": "python"
    }
  },
  "cells": [
    {
      "cell_type": "markdown",
      "metadata": {
        "id": "view-in-github",
        "colab_type": "text"
      },
      "source": [
        "<a href=\"https://colab.research.google.com/github/AlexeyTri/MLScratch/blob/main/LogisticRegression.ipynb\" target=\"_parent\"><img src=\"https://colab.research.google.com/assets/colab-badge.svg\" alt=\"Open In Colab\"/></a>"
      ]
    },
    {
      "cell_type": "code",
      "source": [
        "import numpy as np\n",
        "import sklearn \n",
        "from sklearn.model_selection import train_test_split\n",
        "from sklearn import datasets\n",
        "import matplotlib.pyplot as plt"
      ],
      "metadata": {
        "id": "4U0MbSSDQwPj"
      },
      "execution_count": 1,
      "outputs": []
    },
    {
      "cell_type": "code",
      "source": [
        "class LogisticRegression:\n",
        "    def __init__(self, lr=0.001, n_iters=1000):\n",
        "        self.lr = lr\n",
        "        self.n_iters = n_iters\n",
        "        self.weights = None\n",
        "        self.b = None\n",
        "    \n",
        "    def fit(self, X, y):\n",
        "        n_samples, n_features = X.shape\n",
        "        self.y = y\n",
        "        self.weights = np.zeros(n_features)\n",
        "        self.b = 0\n",
        "\n",
        "        for _ in range(self.n_iters):\n",
        "            linear_model = np.dot(X, self.weights) + self.b\n",
        "            y_pred = self._sigmoid(linear_model)\n",
        "\n",
        "            dw = (1/n_samples) * np.dot(X.T, (y_pred - self.y))\n",
        "            db = (1/n_samples) * np.sum(y_pred - self.y)\n",
        "\n",
        "            self.weights -= self.lr * dw\n",
        "            self.b -= self.lr * db\n",
        "\n",
        "    def predict(self, X):\n",
        "        linear_model = np.dot(X, self.weights) + self.b\n",
        "        y_pred = self._sigmoid(linear_model)\n",
        "        y_pred_cls = [1 if i>0.5 else 0 for i in y_pred]\n",
        "        return np.array(y_pred_cls)\n",
        "\n",
        "    def _sigmoid(self, x):\n",
        "        return 1 / (1 + np.exp(-x))     "
      ],
      "metadata": {
        "id": "k9BEom26VAgz"
      },
      "execution_count": 47,
      "outputs": []
    },
    {
      "cell_type": "code",
      "source": [
        "def accuracy(x1, x2):\n",
        "    return(np.sum(x1 == x2)/len(x2))"
      ],
      "metadata": {
        "id": "UiD_2_PDd4TX"
      },
      "execution_count": 3,
      "outputs": []
    },
    {
      "cell_type": "code",
      "source": [
        "bs = datasets.load_breast_cancer()\n",
        "X, y = bs.data, bs.target\n",
        "X_train, X_test, y_train, y_test = train_test_split(X, y, test_size=0.2, random_state=1234)"
      ],
      "metadata": {
        "id": "5uFf_B9deOvE"
      },
      "execution_count": 4,
      "outputs": []
    },
    {
      "cell_type": "code",
      "source": [
        "LR = LogisticRegression(lr=0.001)"
      ],
      "metadata": {
        "id": "wzSbw5EpY1eh"
      },
      "execution_count": 49,
      "outputs": []
    },
    {
      "cell_type": "code",
      "source": [
        "LR.fit(X_train, y_train)"
      ],
      "metadata": {
        "id": "MnIhVh1cY55U",
        "colab": {
          "base_uri": "https://localhost:8080/"
        },
        "outputId": "e1ff6d94-f624-4a96-deef-c1481dca8608"
      },
      "execution_count": 50,
      "outputs": [
        {
          "output_type": "stream",
          "name": "stderr",
          "text": [
            "<ipython-input-47-c51aa965bcba>:31: RuntimeWarning: overflow encountered in exp\n",
            "  return 1 / (1 + np.exp(-x))\n"
          ]
        }
      ]
    },
    {
      "cell_type": "code",
      "source": [
        "accuracy(LR.predict(X_test), y_test)"
      ],
      "metadata": {
        "id": "XbhRNdULZbbX",
        "colab": {
          "base_uri": "https://localhost:8080/"
        },
        "outputId": "08ebebae-fe88-429e-d5ec-0c4ae90e9cb4"
      },
      "execution_count": 51,
      "outputs": [
        {
          "output_type": "stream",
          "name": "stderr",
          "text": [
            "<ipython-input-47-c51aa965bcba>:31: RuntimeWarning: overflow encountered in exp\n",
            "  return 1 / (1 + np.exp(-x))\n"
          ]
        },
        {
          "output_type": "execute_result",
          "data": {
            "text/plain": [
              "0.8947368421052632"
            ]
          },
          "metadata": {},
          "execution_count": 51
        }
      ]
    }
  ]
}
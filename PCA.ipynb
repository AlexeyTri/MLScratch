{
  "nbformat": 4,
  "nbformat_minor": 0,
  "metadata": {
    "colab": {
      "provenance": [],
      "authorship_tag": "ABX9TyNWRaD8cPMyXC2rkgSUsIV7",
      "include_colab_link": true
    },
    "kernelspec": {
      "name": "python3",
      "display_name": "Python 3"
    },
    "language_info": {
      "name": "python"
    }
  },
  "cells": [
    {
      "cell_type": "markdown",
      "metadata": {
        "id": "view-in-github",
        "colab_type": "text"
      },
      "source": [
        "<a href=\"https://colab.research.google.com/github/AlexeyTri/MLScratch/blob/main/PCA.ipynb\" target=\"_parent\"><img src=\"https://colab.research.google.com/assets/colab-badge.svg\" alt=\"Open In Colab\"/></a>"
      ]
    },
    {
      "cell_type": "markdown",
      "source": [
        "Principal Component Analisys\n",
        "\n",
        "Eigenvector, Eigenvalues - the eigenvectors point in the direction of the maximum varience, and the corresponding eigenvalues indicates the importance of its corresponding eigen vector\n",
        "\n",
        "$Av^{→} = λv^{→}$\n",
        "\n",
        "\n",
        "Approach:\n",
        "\n",
        "1. substract the mean from X\n",
        "2. calculate Cov(X,X)\n",
        "3. calculate eigenvectors and eigenvalues covmatrix\n",
        "4. sort the eigenvectors according to their eigenvalues in decreasing order\n",
        "5. choose first k eigenvectors and that will be the new k dimenstions\n",
        "6. transform the ordinal, n dimansional data points into k dimensions (=Projections with dot product)\n",
        "\n",
        "\n"
      ],
      "metadata": {
        "id": "IQPtIsfy1jLT"
      }
    },
    {
      "cell_type": "code",
      "source": [
        "import numpy as np\n",
        "import sklearn \n",
        "from sklearn.model_selection import train_test_split\n",
        "from sklearn import datasets\n",
        "import matplotlib.pyplot as plt"
      ],
      "metadata": {
        "id": "4U0MbSSDQwPj"
      },
      "execution_count": 1,
      "outputs": []
    },
    {
      "cell_type": "code",
      "source": [
        "class PCA:\n",
        "    def __init__(self, n_components):\n",
        "        self.n_components = n_components\n",
        "        self.components = None\n",
        "        self.mean = None\n",
        "        self.cov = None\n",
        "        self.eigenvectors = None\n",
        "        self.eigenvalues = None\n",
        "\n",
        "    def fit(self, X):\n",
        "        self.mean = np.mean(X)\n",
        "        X = X - self.mean\n",
        "        # cov = SAMPLE x SAMPLE\n",
        "        self.cov = np.cov(X.T)\n",
        "        self.eigenvalues, self.eigenvectors = np.linalg.eig(self.cov)\n",
        "        self.eigenvectors = self.eigenvectors.T\n",
        "        idx = np.argsort(self.eigenvalues)[::-1]\n",
        "        self.eigenvalues = self.eigenvalues[idx]\n",
        "        self.eigenvectors = self.eigenvectors[idx]\n",
        "\n",
        "        self.components = self.eigenvectors[:self.n_components]\n",
        "\n",
        "    def transform(self, X):\n",
        "        X = X - self.mean\n",
        "        return np.dot(X, self.components.T)"
      ],
      "metadata": {
        "id": "iZMJdVO85YwB"
      },
      "execution_count": 53,
      "outputs": []
    },
    {
      "cell_type": "code",
      "source": [
        "from sklearn.model_selection import train_test_split\n",
        "from sklearn import datasets"
      ],
      "metadata": {
        "id": "Ry-MGNC1p8ZI"
      },
      "execution_count": 10,
      "outputs": []
    },
    {
      "cell_type": "code",
      "source": [
        "data = datasets.load_iris()\n",
        "X = data.data\n",
        "y = data.target"
      ],
      "metadata": {
        "id": "AiGIiO4Nv0kx"
      },
      "execution_count": 44,
      "outputs": []
    },
    {
      "cell_type": "code",
      "source": [
        "pca = PCA(2)\n",
        "pca.fit(X)\n",
        "X_project = pca.transform(X)\n",
        "pca.components"
      ],
      "metadata": {
        "colab": {
          "base_uri": "https://localhost:8080/"
        },
        "id": "1VDJS7UxAybk",
        "outputId": "7a763cf7-837f-461c-f963-83e0b9019818"
      },
      "execution_count": 54,
      "outputs": [
        {
          "output_type": "execute_result",
          "data": {
            "text/plain": [
              "array([[ 0.36138659, -0.08452251,  0.85667061,  0.3582892 ],\n",
              "       [-0.65658877, -0.73016143,  0.17337266,  0.07548102]])"
            ]
          },
          "metadata": {},
          "execution_count": 54
        }
      ]
    },
    {
      "cell_type": "code",
      "source": [
        "X.shape, X_project.shape"
      ],
      "metadata": {
        "colab": {
          "base_uri": "https://localhost:8080/"
        },
        "id": "2hgHfDgwCzD9",
        "outputId": "54596cc8-1491-4421-fe76-c2094bced247"
      },
      "execution_count": 55,
      "outputs": [
        {
          "output_type": "execute_result",
          "data": {
            "text/plain": [
              "((150, 4), (150, 2))"
            ]
          },
          "metadata": {},
          "execution_count": 55
        }
      ]
    },
    {
      "cell_type": "code",
      "source": [
        "x1 = X_project[:, 0]\n",
        "x2 = X_project[:, 1]\n",
        "\n",
        "plt.scatter(\n",
        "        x1, x2, c=y, edgecolor=\"none\", alpha=0.8, cmap=plt.cm.get_cmap(\"viridis\", 3)\n",
        "    )\n",
        "\n",
        "plt.xlabel(\"Principal Component 1\")\n",
        "plt.ylabel(\"Principal Component 2\")\n",
        "plt.colorbar()\n",
        "plt.show()"
      ],
      "metadata": {
        "colab": {
          "base_uri": "https://localhost:8080/",
          "height": 283
        },
        "id": "26lJN7GUECsl",
        "outputId": "986327d1-6647-4ed3-d3a1-f24b9faec966"
      },
      "execution_count": 56,
      "outputs": [
        {
          "output_type": "display_data",
          "data": {
            "text/plain": [
              "<Figure size 432x288 with 2 Axes>"
            ],
            "image/png": "[encoded data removed]"
          },
          "metadata": {
            "needs_background": "light"
          }
        }
      ]
    }
  ]
}
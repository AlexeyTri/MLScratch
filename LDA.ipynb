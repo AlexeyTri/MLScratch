{
  "nbformat": 4,
  "nbformat_minor": 0,
  "metadata": {
    "colab": {
      "provenance": [],
      "authorship_tag": "ABX9TyPf6sjHqN7S+3tWIuMOin5V",
      "include_colab_link": true
    },
    "kernelspec": {
      "name": "python3",
      "display_name": "Python 3"
    },
    "language_info": {
      "name": "python"
    }
  },
  "cells": [
    {
      "cell_type": "markdown",
      "metadata": {
        "id": "view-in-github",
        "colab_type": "text"
      },
      "source": [
        "<a href=\"https://colab.research.google.com/github/AlexeyTri/MLScratch/blob/main/LDA.ipynb\" target=\"_parent\"><img src=\"https://colab.research.google.com/assets/colab-badge.svg\" alt=\"Open In Colab\"/></a>"
      ]
    },
    {
      "cell_type": "markdown",
      "source": [
        "Linear Discriminant Analisys\n",
        "\n",
        "Goal - feature reduction. The goal is to project a dataset onto a lower-dimensional space with good class-sepaparability\n",
        "\n",
        "Eigenvector, Eigenvalues - the eigenvectors point in the direction of the maximum varience, and the corresponding eigenvalues indicates the importance of its corresponding eigen vector\n",
        "\n",
        "PCA - unsupervised learning, because we don't have y\n",
        "PLA - supervised learning, we have y -> find parameters axis for maximise separation between classes\n",
        "\n",
        "Approach:\n",
        "\n",
        "1. within-class scatter matrix\n",
        "\n",
        "$S_w = \\sum_c S_c$\n",
        "\n",
        "$S_c=\\sum_{i\\in c}(x_i - \\bar x_c)(x_i - \\bar x_c)^T$\n",
        "\n",
        "2. betweet class scatter matrix\n",
        "\n",
        "$S_B = \\sum_c n_c \\cdot(\\bar x_c - \\bar x)(\\bar x_c - \\bar x)^T$\n",
        "\n",
        "3. calculate eigenvectors and eigenvalues covmatrix for $S_w^{-1}S_B$\n",
        "\n",
        "4. sort the eigenvectors according to their eigenvalues in decreasing order\n",
        "\n",
        "5. choose first k eigenvectors and that will be the new k dimenstions\n",
        "\n",
        "6. transform the ordinal, n dimansional data points into k dimensions (=Projections with dot product)\n",
        "\n",
        "\n"
      ],
      "metadata": {
        "id": "IQPtIsfy1jLT"
      }
    },
    {
      "cell_type": "code",
      "source": [
        "import numpy as np\n",
        "import sklearn \n",
        "from sklearn.model_selection import train_test_split\n",
        "from sklearn import datasets\n",
        "import matplotlib.pyplot as plt"
      ],
      "metadata": {
        "id": "4U0MbSSDQwPj"
      },
      "execution_count": 1,
      "outputs": []
    },
    {
      "cell_type": "code",
      "source": [
        "class LDA:\n",
        "    def __init__(self, n_components):\n",
        "        self.n_components = n_components\n",
        "        self.linear_discriminants = None\n",
        "        \n",
        "    def fit(self, X, y):\n",
        "        n_samples, n_features = X.shape\n",
        "        class_labels = np.unique(y)\n",
        "\n",
        "        mean_overall = np.mean(X, axis=0)\n",
        "        SW = np.zeros((n_features, n_features))\n",
        "        SB = np.zeros((n_features, n_features))\n",
        "\n",
        "        for c in class_labels:\n",
        "            X_c = X[y == c]\n",
        "            mean_c = np.mean(X_c, axis=0)\n",
        "            # (4 x n_c) * (n_c x 4) = 4 x 4\n",
        "            SW += (X_c - mean_c).T.dot((X_c - mean_c))\n",
        "\n",
        "            n_c = X_c.shape[0]\n",
        "            mean_diff = (mean_c - mean_overall).reshape(n_features, 1)\n",
        "            SB += n_c * (mean_diff).dot((mean_diff).T)\n",
        "        \n",
        "        A = np.linalg.inv(SW).dot(SB)\n",
        "        self.eigenvalues, self.eigenvectors = np.linalg.eig(A)\n",
        "        self.eigenvectors = self.eigenvectors.T\n",
        "        idx = np.argsort(abs(self.eigenvalues))[::-1]\n",
        "        self.eigenvalues = self.eigenvalues[idx]\n",
        "        self.eigenvectors = self.eigenvectors[idx]\n",
        "\n",
        "        self.linear_discriminants = self.eigenvectors[0:self.n_components]\n",
        "\n",
        "    def transform(self, X):\n",
        "        return np.dot(X, self.linear_discriminants.T)"
      ],
      "metadata": {
        "id": "iZMJdVO85YwB"
      },
      "execution_count": 10,
      "outputs": []
    },
    {
      "cell_type": "code",
      "source": [
        "from sklearn.model_selection import train_test_split\n",
        "from sklearn import datasets"
      ],
      "metadata": {
        "id": "Ry-MGNC1p8ZI"
      },
      "execution_count": 11,
      "outputs": []
    },
    {
      "cell_type": "code",
      "source": [
        "data = datasets.load_iris()\n",
        "X = data.data\n",
        "y = data.target"
      ],
      "metadata": {
        "id": "AiGIiO4Nv0kx"
      },
      "execution_count": 12,
      "outputs": []
    },
    {
      "cell_type": "code",
      "source": [
        "lda = LDA(2)\n",
        "lda.fit(X, y)\n",
        "X_projected = lda.transform(X)"
      ],
      "metadata": {
        "id": "1VDJS7UxAybk"
      },
      "execution_count": 13,
      "outputs": []
    },
    {
      "cell_type": "code",
      "source": [
        "X.shape, X_projected.shape"
      ],
      "metadata": {
        "colab": {
          "base_uri": "https://localhost:8080/"
        },
        "id": "2hgHfDgwCzD9",
        "outputId": "cb3d3d39-4215-4de1-8dc1-28491dd323e2"
      },
      "execution_count": 14,
      "outputs": [
        {
          "output_type": "execute_result",
          "data": {
            "text/plain": [
              "((150, 4), (150, 2))"
            ]
          },
          "metadata": {},
          "execution_count": 14
        }
      ]
    },
    {
      "cell_type": "code",
      "source": [
        "x1, x2 = X_projected[:, 0], X_projected[:, 1]\n",
        "\n",
        "plt.scatter(\n",
        "        x1, x2, c=y, edgecolor=\"none\", alpha=0.8, cmap=plt.cm.get_cmap(\"viridis\", 3)\n",
        "    )\n",
        "\n",
        "plt.xlabel(\"Principal Component 1\")\n",
        "plt.ylabel(\"Principal Component 2\")\n",
        "plt.colorbar()\n",
        "plt.show()"
      ],
      "metadata": {
        "colab": {
          "base_uri": "https://localhost:8080/",
          "height": 283
        },
        "id": "26lJN7GUECsl",
        "outputId": "c709fdf0-9b1b-49ce-db77-40182897cf35"
      },
      "execution_count": 15,
      "outputs": [
        {
          "output_type": "display_data",
          "data": {
            "text/plain": [
              "<Figure size 432x288 with 2 Axes>"
            ],
            "image/png": "[encoded data removed]"
          },
          "metadata": {
            "needs_background": "light"
          }
        }
      ]
    }
  ]
}
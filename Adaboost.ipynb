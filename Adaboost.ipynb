{
  "nbformat": 4,
  "nbformat_minor": 0,
  "metadata": {
    "colab": {
      "provenance": [],
      "authorship_tag": "ABX9TyNoyNjkXB8ZiuVESRh9v3J3",
      "include_colab_link": true
    },
    "kernelspec": {
      "name": "python3",
      "display_name": "Python 3"
    },
    "language_info": {
      "name": "python"
    }
  },
  "cells": [
    {
      "cell_type": "markdown",
      "metadata": {
        "id": "view-in-github",
        "colab_type": "text"
      },
      "source": [
        "<a href=\"https://colab.research.google.com/github/AlexeyTri/MLScratch/blob/main/Adaboost.ipynb\" target=\"_parent\"><img src=\"https://colab.research.google.com/assets/colab-badge.svg\" alt=\"Open In Colab\"/></a>"
      ]
    },
    {
      "cell_type": "markdown",
      "source": [
        "1. week learner (decision stump)\n",
        "```\n",
        "if x < treshold = class -1\n",
        "else class +1\n",
        "```\n",
        "2. 𝛆 - ERROR\n",
        "\n",
        "$𝛆 = \\frac{missclassification}{sample} = \\frac{missclassification}{N}$ in the first iteration\n",
        "\n",
        "\n",
        "$𝛆_t = \\sum_{miss}weights$ if 𝛆 > error flip decision and the error = 1 - error\n",
        "\n",
        "3. WEIGHTS\n",
        "\n",
        "$w_0 = \\frac{1}{N}$\n",
        "\n",
        "$w = \\frac{w \\cdot \\exp(- α \\cdot y \\cdot h(X)}{\\sum w})$, where h(X) - prediction of t\n",
        "\n",
        "4. PERFORMANCE\n",
        "\n",
        "$α = 0.5 \\log(\\frac{1-𝛆_t}{𝛆})$\n",
        "\n",
        "5. PREDICTION\n",
        "\n",
        "$y = sign(\\sum_t^T α_t \\cdot h(X))$"
      ],
      "metadata": {
        "id": "WcwOA5GAdrF0"
      }
    },
    {
      "cell_type": "code",
      "source": [
        "import numpy as np\n",
        "import sklearn \n",
        "from sklearn.model_selection import train_test_split\n",
        "from sklearn import datasets\n",
        "import matplotlib.pyplot as plt"
      ],
      "metadata": {
        "id": "4U0MbSSDQwPj"
      },
      "execution_count": 10,
      "outputs": []
    },
    {
      "cell_type": "code",
      "source": [
        "# class DecisionStump:\n",
        "#     def __init__(self):\n",
        "#         self.polarity = 1\n",
        "#         self.treshold = None\n",
        "#         self.feature_idx = None\n",
        "#         self.alpha = None\n",
        "\n",
        "#     def predict(self, X):\n",
        "#         n_samples = X.shape[0]\n",
        "#         predictions = np.ones(n_samples)\n",
        "#         X_columns = X[:, self.feature_idx]\n",
        "\n",
        "#         if self.polarity == 1:\n",
        "#             predictions[X_columns < self.treshold] = -1\n",
        "#         else:\n",
        "#             predictions[X_columns > self.treshold] = -1\n",
        "\n",
        "#         return predictions\n",
        "\n",
        "class DecisionStump:\n",
        "    def __init__(self):\n",
        "        self.polarity = 1\n",
        "        self.feature_idx = None\n",
        "        self.threshold = None\n",
        "        self.alpha = None\n",
        "\n",
        "    def predict(self, X):\n",
        "        n_samples = X.shape[0]\n",
        "        X_column = X[:, self.feature_idx]\n",
        "        predictions = np.ones(n_samples)\n",
        "        if self.polarity == 1:\n",
        "            predictions[X_column < self.threshold] = -1\n",
        "        else:\n",
        "            predictions[X_column > self.threshold] = -1\n",
        "\n",
        "        return predictions"
      ],
      "metadata": {
        "id": "EGHRuxDHMynN"
      },
      "execution_count": 21,
      "outputs": []
    },
    {
      "cell_type": "code",
      "source": [
        "class AdaBoost:\n",
        "    def __init__(self, n_clf=5):\n",
        "        self.n_clf = n_clf\n",
        "        self.clfs = []\n",
        "\n",
        "    def fit(self, X, y):\n",
        "        n_samples, n_features = X.shape\n",
        "\n",
        "        w = np.full(n_samples, (1/n_samples))\n",
        "\n",
        "        self.clsf = []\n",
        "\n",
        "        for _ in range(self.n_clf):\n",
        "            clf = DecisionStump()\n",
        "            min_error = float(\"inf\")\n",
        "\n",
        "            # greedy search to find best threshold and feature\n",
        "            for feature_i in range(n_features):\n",
        "                X_column = X[:, feature_i]\n",
        "                thresholds = np.unique(X_column)\n",
        "\n",
        "                for threshold in thresholds:\n",
        "                    # predict with polarity 1\n",
        "                    p = 1\n",
        "                    predictions = np.ones(n_samples)\n",
        "                    predictions[X_column < threshold] = -1\n",
        "\n",
        "                    # Error = sum of weights of misclassified samples\n",
        "                    misclassified = w[y != predictions]\n",
        "                    error = sum(misclassified)\n",
        "\n",
        "                    if error > 0.5:\n",
        "                        error = 1 - error\n",
        "                        p = -1\n",
        "\n",
        "                    # store the best configuration\n",
        "                    if error < min_error:\n",
        "                        clf.polarity = p\n",
        "                        clf.threshold = threshold\n",
        "                        clf.feature_idx = feature_i\n",
        "                        min_error = error\n",
        "        # calculate alpha\n",
        "        EPS = 1e-10\n",
        "        clf.alpha = 0.5 * np.log((1.0 - min_error + EPS) / (min_error + EPS))\n",
        "\n",
        "        # calculate predictions and update weights\n",
        "        predictions = clf.predict(X)\n",
        "\n",
        "        w *= np.exp(-clf.alpha * y * predictions)\n",
        "        # Normalize to one\n",
        "        w /= np.sum(w)\n",
        "\n",
        "        # Save classifier\n",
        "        self.clfs.append(clf)\n",
        "\n",
        "    def predict(self, X):\n",
        "        clf_preds = [clf.alpha * clf.predict(X) for clf in self.clfs]\n",
        "        y_pred = np.sum(clf_preds, axis=0)\n",
        "        y_pred = np.sign(y_pred)\n",
        "\n",
        "        return y_pred"
      ],
      "metadata": {
        "id": "z-gZTbs0m1Zx"
      },
      "execution_count": 24,
      "outputs": []
    },
    {
      "cell_type": "code",
      "source": [
        "from sklearn import datasets\n",
        "from sklearn.model_selection import train_test_split\n",
        "\n",
        "def accuracy(y_true, y_pred):\n",
        "    accuracy = np.sum(y_true == y_pred) / len(y_true)\n",
        "    return accuracy\n",
        "\n",
        "data = datasets.load_breast_cancer()\n",
        "X, y = data.data, data.target\n",
        "\n",
        "y[y == 0] = -1\n",
        "\n",
        "X_train, X_test, y_train, y_test = train_test_split(X, y, test_size=0.2, random_state=5)\n",
        "\n",
        "    # Adaboost classification with 5 weak classifiers\n",
        "clf = AdaBoost(n_clf=5)\n",
        "clf.fit(X_train, y_train)\n",
        "y_pred = clf.predict(X_test)\n",
        "\n",
        "acc = accuracy(y_test, y_pred)\n",
        "print(\"Accuracy:\", acc)"
      ],
      "metadata": {
        "colab": {
          "base_uri": "https://localhost:8080/"
        },
        "id": "STOnaOJwq7wD",
        "outputId": "e35e6a3a-d402-4532-e962-9bdf949f0d18"
      },
      "execution_count": 25,
      "outputs": [
        {
          "output_type": "stream",
          "name": "stdout",
          "text": [
            "Accuracy: 0.9122807017543859\n"
          ]
        }
      ]
    }
  ]
}